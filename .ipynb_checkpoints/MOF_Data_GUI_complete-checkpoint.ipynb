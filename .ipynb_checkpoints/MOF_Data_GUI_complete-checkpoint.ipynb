{
 "cells": [
  {
   "cell_type": "code",
   "execution_count": 115,
   "metadata": {
    "extensions": {
     "jupyter_dashboards": {
      "version": 1,
      "views": {
       "grid_default": {
        "hidden": true
       },
       "report_default": {
        "hidden": true
       }
      }
     }
    }
   },
   "outputs": [],
   "source": [
    "#all imports\n",
    "#for reading json file\n",
    "import json\n",
    "#for dataframes\n",
    "import pandas as pd\n",
    "import numpy as np\n",
    "#for implementing widgets\n",
    "import ipywidgets as widgets\n",
    "from IPython.display import clear_output\n",
    "#for alllowing user to download multiple data CSVs\n",
    "from hublib.ui import FileUpload, Download\n",
    "#for making dataframe into a qgrid\n",
    "import qgrid"
   ]
  },
  {
   "cell_type": "code",
   "execution_count": 116,
   "metadata": {
    "extensions": {
     "jupyter_dashboards": {
      "version": 1,
      "views": {
       "grid_default": {
        "hidden": true
       },
       "report_default": {
        "hidden": true
       }
      }
     }
    }
   },
   "outputs": [],
   "source": [
    "def create_dataframe():  \n",
    "    source_target = []\n",
    "    all_mofs = []\n",
    "    LCD = []\n",
    "    PLD = []\n",
    "    surface_area = []\n",
    "    density = []\n",
    "    formula = []\n",
    "    space_group = []\n",
    "    volume_fraction = []\n",
    "    \n",
    "    #read in data from JSON file\n",
    "    with open('/home/corebuffalo/elliotsnitzer/tools/mofmap/bin/data.json') as json_file:\n",
    "        data = json.load(json_file)\n",
    "        for mof in data:\n",
    "            source_target.append([mof['source'],mof['target']])\n",
    "            all_mofs.append(mof['source'])\n",
    "            all_mofs.append(mof['target'])\n",
    "            LCD.append(mof['LCD'][0])\n",
    "            LCD.append(mof['LCD'][1])\n",
    "            PLD.append(mof['PLD'][0])\n",
    "            PLD.append(mof['PLD'][1])\n",
    "            surface_area.append(mof['area'][0])\n",
    "            surface_area.append(mof['area'][1])\n",
    "            density.append(mof['density'][0])\n",
    "            density.append(mof['density'][1])\n",
    "            formula.append(mof['formula'][0])\n",
    "            formula.append(mof['formula'][1])\n",
    "            space_group.append(mof['space_group'][0])\n",
    "            space_group.append(mof['space_group'][1])\n",
    "            volume_fraction.append(mof['vol_frac'][0])\n",
    "            volume_fraction.append(mof['vol_frac'][1])\n",
    "    \n",
    "    #creating dictionary of data to use when creating dataframe\n",
    "    data = {'CSD Identifier':all_mofs, 'Largest Cavity Diameter':LCD,\n",
    "            'Pore-Limiting Diameter':PLD, 'Surface Area':surface_area, \n",
    "            'Density':density, 'Molecular Formula':formula, 'Space Group':space_group,\n",
    "            'Volume Fraction':volume_fraction}\n",
    "    #actually creating dataframe\n",
    "    #also set index to csd_id and drop duplicate MOFs\n",
    "    df = pd.DataFrame(data)\n",
    "    df = df.drop_duplicates()\n",
    "    df = df.set_index('CSD Identifier')\n",
    "    df = df.sort_index()\n",
    "    \n",
    "    #get correlated molecules for every MOF\n",
    "    csd_relation = []\n",
    "    csd_relations = []\n",
    "\n",
    "    for csd in df.index.tolist():\n",
    "        csd_relation = []\n",
    "        for r in source_target:\n",
    "            if csd == r[0]:\n",
    "                csd_relation.append(r[1])\n",
    "        csd_relation = set(csd_relation)\n",
    "        if len(csd_relation)==0:\n",
    "            csd_relations.append('None')\n",
    "        else:\n",
    "            csd_relations.append(csd_relation)\n",
    "            \n",
    "    #get metals from the molecular formulas of each MOF\n",
    "    #place metals into a list of strings\n",
    "    metals = {'Zn':'Zinc','Cu':'Copper','Cr':'Chromium','Mn':'Manganese',\n",
    "              'Ni':'Nickel','V':'Vanadium','Fe':'Iron','U':'Uranium','Co':'Cobalt',\n",
    "              'Cd':'Cadmium','W':'Tungsten','In':'Indium','Ag':'Silver','Pb':'Lead',\n",
    "              'Dy':'Dysprosium','Gd':'Gadolinium','Pr':'Praseodymium','Nd':'Neodymium','Eu':'Europium',\n",
    "              'Tb':'Terbium','Er':'Erbium','Yb':'Ytterbium','Hg':'Mercury',\n",
    "              'Sr':'Strontium','Au':'Gold','Sm':'Samarium','Al':'Aluminum','Zr':'Zirconium',\n",
    "              'Ce':'Cerium'}\n",
    "    metals_list = []\n",
    "    for form in df['Molecular Formula']:\n",
    "        metal_present = ''\n",
    "        for m in metals:\n",
    "            if m in form:\n",
    "                metal_present = (metal_present+' '+m)\n",
    "        metals_list.append(metal_present.strip())\n",
    "        \n",
    "    #add rows to the dataframe to complete the data\n",
    "    df['Correlated Molecules'] = csd_relations\n",
    "    df['Metals'] = metals_list\n",
    "    \n",
    "    #return the completed dataframe\n",
    "    return df"
   ]
  },
  {
   "cell_type": "code",
   "execution_count": null,
   "metadata": {
    "extensions": {
     "jupyter_dashboards": {
      "version": 1,
      "views": {
       "grid_default": {
        "hidden": true
       },
       "report_default": {
        "hidden": true
       }
      }
     }
    }
   },
   "outputs": [],
   "source": []
  },
  {
   "cell_type": "code",
   "execution_count": 117,
   "metadata": {
    "extensions": {
     "jupyter_dashboards": {
      "version": 1,
      "views": {
       "grid_default": {
        "hidden": true
       },
       "report_default": {
        "hidden": true
       }
      }
     }
    }
   },
   "outputs": [],
   "source": [
    "#check if complete dataset already exists\n",
    "#if it does, open and read the file into a dataframe\n",
    "file_name = '/home/corebuffalo/elliotsnitzer/notebooks/complete_mof_data.csv'\n",
    "try:\n",
    "    file = open(file_name,'r')\n",
    "    df = pd.read_csv(file)\n",
    "    df = df.set_index('CSD Identifier')\n",
    "    #this is necessary to convert the string of correlated mofs read from the file back into a list\n",
    "    #without this the mof_correlation_widget will not work\n",
    "    corrected_correlations = []\n",
    "    for c in df['Correlated Molecules']:\n",
    "        listed_cmofs = []\n",
    "        c_mofs = c.replace('{','').replace('}','').replace('\\'','').split(',')\n",
    "        for c_mof in c_mofs:\n",
    "            if c_mof == 'None':\n",
    "                listed_cmofs = 'None'\n",
    "            else:\n",
    "                listed_cmofs.append(c_mof.strip())\n",
    "        corrected_correlations.append(listed_cmofs)\n",
    "    df['Correlated Molecules'] = corrected_correlations\n",
    "#if it doesn't just create the dataframe from scratch using the JSON file\n",
    "except FileNotFoundError:\n",
    "    df = create_dataframe()"
   ]
  },
  {
   "cell_type": "code",
   "execution_count": null,
   "metadata": {
    "extensions": {
     "jupyter_dashboards": {
      "version": 1,
      "views": {
       "grid_default": {
        "hidden": true
       },
       "report_default": {
        "hidden": true
       }
      }
     }
    }
   },
   "outputs": [],
   "source": []
  },
  {
   "cell_type": "code",
   "execution_count": 118,
   "metadata": {
    "extensions": {
     "jupyter_dashboards": {
      "version": 1,
      "views": {
       "grid_default": {
        "hidden": true
       },
       "report_default": {
        "hidden": true
       }
      }
     }
    }
   },
   "outputs": [],
   "source": [
    "image_file_root = '/home/corebuffalo/elliotsnitzer/tools/mofmap/bin/finger_prints_lo/'\n",
    "\n",
    "def show_image(img_id):\n",
    "    image_file = image_file_root+img_id+'_lo.png'\n",
    "    file = open(image_file, 'rb')\n",
    "    image = file.read()\n",
    "    image_widget.value = image\n",
    "    \n",
    "def show_info(img_id):\n",
    "    info_widget.clear_output()\n",
    "    row_info = df.loc[img_id]\n",
    "    correlations(row_info)\n",
    "    display_info = info_formatter(row_info,img_id)\n",
    "    with info_widget:\n",
    "        print(display_info)\n",
    "        \n",
    "def correlations(row_info):\n",
    "    correlations = row_info['Correlated Molecules']\n",
    "    correlated_mofs = list(correlations)\n",
    "    if len(correlated_mofs[0])==1:\n",
    "        correlated_mofs = []\n",
    "    mof_selection_widget.options = correlated_mofs\n",
    "    \n",
    "def info_formatter(row_info,img_id):\n",
    "    formatted_string = ('                 '+'\\033[1m'+img_id+'\\033[0m'+\n",
    "                        '\\nSurface Area: '+str(row_info['Surface Area'])+\n",
    "                        '\\nPore-Limiting Diameter: '+str(row_info['Pore-Limiting Diameter'])+\n",
    "                        '\\nLargest Cavity Diameter: '+str(row_info['Largest Cavity Diameter'])+\n",
    "                        '\\nDensity: '+str(row_info['Density'])+\n",
    "                        '\\nVolume Fraction: '+str(row_info['Volume Fraction'])+\n",
    "                        '\\nSpace Group: '+str(row_info['Space Group'])+\n",
    "                        '\\nMetals: '+str(row_info['Metals'])+\n",
    "                        '\\nMolecular Formula: '+str(row_info['Molecular Formula']))\n",
    "    return formatted_string"
   ]
  },
  {
   "cell_type": "code",
   "execution_count": 119,
   "metadata": {
    "extensions": {
     "jupyter_dashboards": {
      "version": 1,
      "views": {
       "grid_default": {
        "col": 0,
        "height": 31,
        "hidden": false,
        "row": 0,
        "width": 12
       },
       "report_default": {
        "hidden": false
       }
      }
     }
    }
   },
   "outputs": [
    {
     "data": {
      "application/vnd.jupyter.widget-view+json": {
       "model_id": "5e75e4ecc76b461fae56a15d57d3d04b",
       "version_major": 2,
       "version_minor": 0
      },
      "text/html": [
       "<p>Failed to display Jupyter Widget of type <code>HBox</code>.</p>\n",
       "<p>\n",
       "  If you're reading this message in the Jupyter Notebook or JupyterLab Notebook, it may mean\n",
       "  that the widgets JavaScript is still loading. If this message persists, it\n",
       "  likely means that the widgets JavaScript library is either not installed or\n",
       "  not enabled. See the <a href=\"https://ipywidgets.readthedocs.io/en/stable/user_install.html\">Jupyter\n",
       "  Widgets Documentation</a> for setup instructions.\n",
       "</p>\n",
       "<p>\n",
       "  If you're reading this message in another frontend (for example, a static\n",
       "  rendering on GitHub or <a href=\"https://nbviewer.jupyter.org/\">NBViewer</a>),\n",
       "  it may mean that your frontend doesn't currently support widgets.\n",
       "</p>\n"
      ],
      "text/plain": [
       "HBox(children=(Image(value=b'', height='500', width='400'), VBox(children=(Output(layout=Layout(border='1px solid black')), HBox(children=(Label(value='Correlated MOFs:'), SelectMultiple(options=(), value=())))))))"
      ]
     },
     "metadata": {},
     "output_type": "display_data"
    },
    {
     "data": {
      "application/vnd.jupyter.widget-view+json": {
       "model_id": "8882fe15dad84b4f878e2f25221d904b",
       "version_major": 2,
       "version_minor": 0
      },
      "text/html": [
       "<p>Failed to display Jupyter Widget of type <code>QgridWidget</code>.</p>\n",
       "<p>\n",
       "  If you're reading this message in the Jupyter Notebook or JupyterLab Notebook, it may mean\n",
       "  that the widgets JavaScript is still loading. If this message persists, it\n",
       "  likely means that the widgets JavaScript library is either not installed or\n",
       "  not enabled. See the <a href=\"https://ipywidgets.readthedocs.io/en/stable/user_install.html\">Jupyter\n",
       "  Widgets Documentation</a> for setup instructions.\n",
       "</p>\n",
       "<p>\n",
       "  If you're reading this message in another frontend (for example, a static\n",
       "  rendering on GitHub or <a href=\"https://nbviewer.jupyter.org/\">NBViewer</a>),\n",
       "  it may mean that your frontend doesn't currently support widgets.\n",
       "</p>\n"
      ],
      "text/plain": [
       "QgridWidget(grid_options={'fullWidthRows': True, 'syncColumnCellResize': True, 'forceFitColumns': True, 'defaultColumnWidth': 150, 'rowHeight': 28, 'enableColumnReorder': False, 'enableTextSelectionOnCells': True, 'editable': False, 'autoEdit': False, 'explicitInitialization': True, 'maxVisibleRows': 15, 'minVisibleRows': 8, 'sortable': True, 'filterable': True, 'highlightSelectedCell': False, 'highlightSelectedRow': True, 'toolTip': 'Not Editable'}, precision=5)"
      ]
     },
     "metadata": {},
     "output_type": "display_data"
    }
   ],
   "source": [
    "modified_dataframe = pd.DataFrame({'Surface Area':df['Surface Area'],\n",
    "                                   'Pore-Limiting Diameter':df['Pore-Limiting Diameter'],\n",
    "                                   'Metals':df['Metals']})\n",
    "image_widget = widgets.Image(\n",
    "    format = 'png',\n",
    "    width = 400,\n",
    "    height = 500)\n",
    "\n",
    "info_widget = widgets.Output(layout = {'border':'1px solid black'})\n",
    "\n",
    "correlation_label = widgets.Label(value = 'Correlated MOFs:')\n",
    "mof_selection_widget = widgets.SelectMultiple()\n",
    "correlation_widget = widgets.HBox([correlation_label,mof_selection_widget])\n",
    "\n",
    "col_opts = {\n",
    "    'editable':False,\n",
    "    'toolTip':'Not Editable'\n",
    "}\n",
    "qgrid_widget = qgrid.show_grid(modified_dataframe, grid_options=col_opts)\n",
    "\n",
    "def handle_row_selection(change):\n",
    "    if change['name']=='_selected_rows':\n",
    "        temp_df = qgrid_widget.get_selected_df()\n",
    "        img_id = temp_df.index[0]\n",
    "        show_image(img_id)\n",
    "        show_info(img_id)\n",
    "        \n",
    "qgrid_widget.observe(handle_row_selection)\n",
    "\n",
    "\n",
    "def handle_correlation_selection(change):\n",
    "    img_id = mof_selection_widget.value\n",
    "    if len(img_id)!=0:\n",
    "        show_image(img_id[0])\n",
    "        show_info(img_id[0])\n",
    "    \n",
    "mof_selection_widget.observe(handle_correlation_selection,names = 'value')\n",
    "\n",
    "info_box = widgets.VBox([info_widget,correlation_widget])\n",
    "image_plus_info = widgets.HBox([image_widget,info_box])\n",
    "display(image_plus_info)\n",
    "qgrid_widget"
   ]
  },
  {
   "cell_type": "code",
   "execution_count": null,
   "metadata": {
    "extensions": {
     "jupyter_dashboards": {
      "version": 1,
      "views": {
       "grid_default": {
        "hidden": true
       },
       "report_default": {
        "hidden": true
       }
      }
     }
    }
   },
   "outputs": [],
   "source": []
  },
  {
   "cell_type": "code",
   "execution_count": 120,
   "metadata": {
    "extensions": {
     "jupyter_dashboards": {
      "version": 1,
      "views": {
       "grid_default": {
        "hidden": true
       },
       "report_default": {
        "hidden": true
       }
      }
     }
    }
   },
   "outputs": [],
   "source": [
    "def current_df():\n",
    "    df_modified = qgrid_widget.get_changed_df()\n",
    "    df_modified.to_csv(r'modified_mof_data.csv',sep = ',',mode = 'w')\n",
    "    \n",
    "modified_download = Download('modified_mof_data.csv', style = 'info',\n",
    "                         label='Modified Dataset', icon='arrow-circle-down', \n",
    "                         tooltip='DOWNLOAD PARTIAL DATA FILE', cb = current_df)\n"
   ]
  },
  {
   "cell_type": "code",
   "execution_count": 121,
   "metadata": {
    "extensions": {
     "jupyter_dashboards": {
      "version": 1,
      "views": {
       "grid_default": {
        "hidden": true
       },
       "report_default": {
        "hidden": true
       }
      }
     }
    }
   },
   "outputs": [],
   "source": [
    "#allow user to download complete dataset\n",
    "def complete_df():\n",
    "    df.to_csv(r'complete_mof_data.csv',sep = ',',mode = 'w')\n",
    "    \n",
    "complete_download = Download('complete_mof_data.csv', style = 'success',\n",
    "                                  label='Complete Dataset', icon='download', \n",
    "                                  tooltip='DOWNLOAD COMPLETE DATA FILE', cb = complete_df)\n"
   ]
  },
  {
   "cell_type": "code",
   "execution_count": 124,
   "metadata": {
    "extensions": {
     "jupyter_dashboards": {
      "version": 1,
      "views": {
       "grid_default": {
        "col": 7,
        "height": 4,
        "hidden": false,
        "row": 31,
        "width": 5
       },
       "report_default": {
        "hidden": false
       }
      }
     }
    }
   },
   "outputs": [
    {
     "data": {
      "application/vnd.jupyter.widget-view+json": {
       "model_id": "1fa26fc5b8b9460ea5d0a9e6fe95dcdd",
       "version_major": 2,
       "version_minor": 0
      },
      "text/html": [
       "<p>Failed to display Jupyter Widget of type <code>HBox</code>.</p>\n",
       "<p>\n",
       "  If you're reading this message in the Jupyter Notebook or JupyterLab Notebook, it may mean\n",
       "  that the widgets JavaScript is still loading. If this message persists, it\n",
       "  likely means that the widgets JavaScript library is either not installed or\n",
       "  not enabled. See the <a href=\"https://ipywidgets.readthedocs.io/en/stable/user_install.html\">Jupyter\n",
       "  Widgets Documentation</a> for setup instructions.\n",
       "</p>\n",
       "<p>\n",
       "  If you're reading this message in another frontend (for example, a static\n",
       "  rendering on GitHub or <a href=\"https://nbviewer.jupyter.org/\">NBViewer</a>),\n",
       "  it may mean that your frontend doesn't currently support widgets.\n",
       "</p>\n"
      ],
      "text/plain": [
       "HBox(children=(Button(button_style='info', description='Modified Dataset', icon='arrow-circle-down', style=ButtonStyle(), tooltip='DOWNLOAD PARTIAL DATA FILE'), Button(button_style='success', description='Complete Dataset', icon='download', style=ButtonStyle(), tooltip='DOWNLOAD COMPLETE DATA FILE')))"
      ]
     },
     "metadata": {},
     "output_type": "display_data"
    }
   ],
   "source": [
    "downloads_widget = widgets.HBox([modified_download.w,complete_download.w])\n",
    "downloads_widget"
   ]
  },
  {
   "cell_type": "code",
   "execution_count": null,
   "metadata": {
    "extensions": {
     "jupyter_dashboards": {
      "version": 1,
      "views": {
       "grid_default": {
        "hidden": true
       },
       "report_default": {
        "hidden": true
       }
      }
     }
    }
   },
   "outputs": [],
   "source": []
  }
 ],
 "metadata": {
  "extensions": {
   "jupyter_dashboards": {
    "activeView": "report_default",
    "version": 1,
    "views": {
     "grid_default": {
      "cellMargin": 10,
      "defaultCellHeight": 20,
      "maxColumns": 12,
      "name": "grid",
      "type": "grid"
     },
     "report_default": {
      "name": "report",
      "type": "report"
     }
    }
   }
  },
  "kernelspec": {
   "display_name": "Python3",
   "language": "python",
   "name": "python3"
  },
  "language_info": {
   "codemirror_mode": {
    "name": "ipython",
    "version": 3
   },
   "file_extension": ".py",
   "mimetype": "text/x-python",
   "name": "python",
   "nbconvert_exporter": "python",
   "pygments_lexer": "ipython3",
   "version": "3.6.4"
  }
 },
 "nbformat": 4,
 "nbformat_minor": 2
}
